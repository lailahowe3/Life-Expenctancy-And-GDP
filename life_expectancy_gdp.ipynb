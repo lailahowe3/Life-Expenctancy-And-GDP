{
 "cells": [
  {
   "cell_type": "markdown",
   "metadata": {},
   "source": [
    "# Life Expectancy and GDP\n",
    "The main goal of this work is to determine the relationship if any between the life expectancy and the GDP of 6 different countries. The data will come from the World Health Oraganisation and the World Bank and is stored in our 'all_data' CSV file."
   ]
  },
  {
   "cell_type": "code",
   "execution_count": 2,
   "metadata": {},
   "outputs": [],
   "source": [
    "import matplotlib.pyplot as plt\n",
    "import seaborn as sns\n",
    "import pandas as pd\n",
    "import numpy as np"
   ]
  },
  {
   "cell_type": "code",
   "execution_count": 4,
   "metadata": {},
   "outputs": [
    {
     "name": "stdout",
     "output_type": "stream",
     "text": [
      "  Country  Year  Life expectancy at birth (years)           GDP\n",
      "0   Chile  2000                              77.3  7.786093e+10\n",
      "1   Chile  2001                              77.3  7.097992e+10\n",
      "2   Chile  2002                              77.8  6.973681e+10\n",
      "3   Chile  2003                              77.9  7.564346e+10\n",
      "4   Chile  2004                              78.0  9.921039e+10\n"
     ]
    }
   ],
   "source": [
    "# load and view data\n",
    "all_data = pd.read_csv('all_data.csv')\n",
    "print(all_data.head())"
   ]
  },
  {
   "cell_type": "code",
   "execution_count": 5,
   "metadata": {},
   "outputs": [
    {
     "name": "stdout",
     "output_type": "stream",
     "text": [
      "<class 'pandas.core.frame.DataFrame'>\n",
      "RangeIndex: 96 entries, 0 to 95\n",
      "Data columns (total 4 columns):\n",
      " #   Column                            Non-Null Count  Dtype  \n",
      "---  ------                            --------------  -----  \n",
      " 0   Country                           96 non-null     object \n",
      " 1   Year                              96 non-null     int64  \n",
      " 2   Life expectancy at birth (years)  96 non-null     float64\n",
      " 3   GDP                               96 non-null     float64\n",
      "dtypes: float64(2), int64(1), object(1)\n",
      "memory usage: 3.1+ KB\n",
      "None\n"
     ]
    }
   ],
   "source": [
    "#check for any missing data values\n",
    "print(all_data.info())"
   ]
  },
  {
   "cell_type": "code",
   "execution_count": 9,
   "metadata": {},
   "outputs": [
    {
     "name": "stdout",
     "output_type": "stream",
     "text": [
      "['Chile' 'China' 'Germany' 'Mexico' 'United States of America' 'Zimbabwe']\n"
     ]
    }
   ],
   "source": [
    "# look at the different countries that are present in the data\n",
    "print(all_data['Country'].unique())"
   ]
  },
  {
   "cell_type": "code",
   "execution_count": 12,
   "metadata": {},
   "outputs": [
    {
     "name": "stdout",
     "output_type": "stream",
     "text": [
      "2000\n",
      "2015\n"
     ]
    }
   ],
   "source": [
    "# look at the range of years we have available\n",
    "print(all_data.Year.min())\n",
    "print(all_data.Year.max())"
   ]
  },
  {
   "cell_type": "code",
   "execution_count": 14,
   "metadata": {},
   "outputs": [
    {
     "name": "stdout",
     "output_type": "stream",
     "text": [
      "                         Life expectancy at birth (years)                      \\\n",
      "                                                    count      mean       std   \n",
      "Country                                                                         \n",
      "Chile                                                16.0  78.94375  1.058911   \n",
      "China                                                16.0  74.26250  1.318016   \n",
      "Germany                                              16.0  79.65625  0.975000   \n",
      "Mexico                                               16.0  75.71875  0.620987   \n",
      "United States of America                             16.0  78.06250  0.832566   \n",
      "Zimbabwe                                             16.0  50.09375  5.940311   \n",
      "\n",
      "                                                             \n",
      "                           min     25%    50%     75%   max  \n",
      "Country                                                      \n",
      "Chile                     77.3  77.975  79.00  79.825  80.5  \n",
      "China                     71.7  73.400  74.45  75.250  76.1  \n",
      "Germany                   78.0  78.950  79.85  80.525  81.0  \n",
      "Mexico                    74.8  75.225  75.65  76.150  76.7  \n",
      "United States of America  76.8  77.425  78.15  78.725  79.3  \n",
      "Zimbabwe                  44.3  45.175  47.40  55.325  60.7  \n"
     ]
    }
   ],
   "source": [
    "# find the summary statistics for life expectancy per country\n",
    "print(all_data[['Country','Life expectancy at birth (years)']].groupby('Country').describe())"
   ]
  },
  {
   "cell_type": "markdown",
   "metadata": {},
   "source": [
    "From the summary statistics displayed above we can see that the mean, min and max values for life expectancy at birth for Zimbabwe are less than the values for the other countries. Zimbabwe also has the largest standard deviation. The highest mean is for Germany which also has the highest min and max values."
   ]
  },
  {
   "cell_type": "code",
   "execution_count": 16,
   "metadata": {},
   "outputs": [
    {
     "name": "stdout",
     "output_type": "stream",
     "text": [
      "                           GDP                                            \\\n",
      "                         count          mean           std           min   \n",
      "Country                                                                    \n",
      "Chile                     16.0  1.697888e+11  7.687884e+10  6.973681e+10   \n",
      "China                     16.0  4.957714e+12  3.501096e+12  1.211350e+12   \n",
      "Germany                   16.0  3.094776e+12  6.674862e+11  1.949950e+12   \n",
      "Mexico                    16.0  9.766506e+11  2.095716e+11  6.836480e+11   \n",
      "United States of America  16.0  1.407500e+13  2.432694e+12  1.030000e+13   \n",
      "Zimbabwe                  16.0  9.062580e+09  4.298310e+09  4.415703e+09   \n",
      "\n",
      "                                                                    \\\n",
      "                                   25%           50%           75%   \n",
      "Country                                                              \n",
      "Chile                     9.387303e+10  1.729975e+11  2.449515e+11   \n",
      "China                     1.881585e+12  4.075195e+12  7.819550e+12   \n",
      "Germany                   2.740870e+12  3.396350e+12  3.596078e+12   \n",
      "Mexico                    7.630910e+11  1.004376e+12  1.156992e+12   \n",
      "United States of America  1.210000e+13  1.445000e+13  1.567500e+13   \n",
      "Zimbabwe                  5.748309e+09  6.733671e+09  1.263446e+10   \n",
      "\n",
      "                                        \n",
      "                                   max  \n",
      "Country                                 \n",
      "Chile                     2.783840e+11  \n",
      "China                     1.106470e+13  \n",
      "Germany                   3.890610e+12  \n",
      "Mexico                    1.298460e+12  \n",
      "United States of America  1.810000e+13  \n",
      "Zimbabwe                  1.630467e+10  \n"
     ]
    }
   ],
   "source": [
    "# find the summary statistics for GDP per country\n",
    "print(all_data[['GDP','Country']].groupby('Country').describe())"
   ]
  },
  {
   "cell_type": "markdown",
   "metadata": {},
   "source": [
    "Once again from looking at the summary statistics described above we can see that Zimbabwe has the lowest mean, min and max for GDP. The USA has the highest mean, min and max GDP."
   ]
  },
  {
   "cell_type": "code",
   "execution_count": null,
   "metadata": {},
   "outputs": [],
   "source": []
  }
 ],
 "metadata": {
  "kernelspec": {
   "display_name": "Python 3 (ipykernel)",
   "language": "python",
   "name": "python3"
  },
  "language_info": {
   "codemirror_mode": {
    "name": "ipython",
    "version": 3
   },
   "file_extension": ".py",
   "mimetype": "text/x-python",
   "name": "python",
   "nbconvert_exporter": "python",
   "pygments_lexer": "ipython3",
   "version": "3.9.7"
  }
 },
 "nbformat": 4,
 "nbformat_minor": 4
}
